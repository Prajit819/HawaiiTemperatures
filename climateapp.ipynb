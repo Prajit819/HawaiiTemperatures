{
 "cells": [
  {
   "cell_type": "code",
   "execution_count": null,
   "metadata": {
    "collapsed": true
   },
   "outputs": [],
   "source": [
    "import warnings\n",
    "warnings.filterwarnings('ignore')"
   ]
  },
  {
   "cell_type": "code",
   "execution_count": null,
   "metadata": {
    "collapsed": true
   },
   "outputs": [],
   "source": [
    "import sqlalchemy\n",
    "from sqlalchemy.ext.automap import automap_base\n",
    "from sqlalchemy.orm import Session\n",
    "from sqlalchemy import create_engine\n",
    "from sqlalchemy import func"
   ]
  },
  {
   "cell_type": "code",
   "execution_count": null,
   "metadata": {
    "collapsed": true
   },
   "outputs": [],
   "source": [
    "import datetime as dt\n",
    "from flask import Flask, jsonify\n"
   ]
  },
  {
   "cell_type": "code",
   "execution_count": null,
   "metadata": {
    "collapsed": true
   },
   "outputs": [],
   "source": [
    "engine = create_engine(\"sqlite:///hawaii.sqlite\")\n",
    "Base = automap_base()\n",
    "Base.prepare(engine, reflect=True)"
   ]
  },
  {
   "cell_type": "code",
   "execution_count": null,
   "metadata": {
    "collapsed": true
   },
   "outputs": [],
   "source": [
    "Measurement = Base.classes.measurement\n",
    "Station = Base.classes.station\n",
    "\n",
    "session = Session(engine)"
   ]
  },
  {
   "cell_type": "code",
   "execution_count": null,
   "metadata": {
    "collapsed": true
   },
   "outputs": [],
   "source": [
    "app = Flask(__name__)"
   ]
  },
  {
   "cell_type": "code",
   "execution_count": null,
   "metadata": {},
   "outputs": [],
   "source": [
    "#create homepage route\n",
    "@app.route(\"/\")\n",
    "def welcome():\n",
    "    \"\"\"List of all returnable API routes.\"\"\"\n",
    "    return(\n",
    "        f\"/api/v1.0/precipitation<br/>\"\n",
    "        f\"- Query temperatures for last year. <br/>\"\n",
    "\n",
    "        f\"/api/v1.0/stations<br/>\"\n",
    "        f\"- List of station. <br/>\"\n",
    "\n",
    "        f\"/api/v1.0/tobs<br/>\"\n",
    "        f\"- Temperatures for the last year. <br/>\"\n",
    "\n",
    "        f\"/api/v1.0/yyyy-mm-dd/<br/>\"\n",
    "        f\"- Average/Max/Min temperatures for a date <br/>\"\n",
    "\n",
    "        f\"/api/v1.0/yyyy-mm-dd/yyyy-mm-dd/<br/>\"\n",
    "        f\"- Average/Max/Min temperatures for a period <br/>\"\n",
    "    )"
   ]
  },
  {
   "cell_type": "code",
   "execution_count": null,
   "metadata": {},
   "outputs": [],
   "source": [
    "#create query to find temperatures and dates for last year\n",
    "@app.route(\"/api/v1.0/precipitation\")\n",
    "def prcp():\n",
    "    \"\"\"Query temperatures for last year.\"\"\"\n",
    "    results = session.query(Measurement.date, Measurement.tobs).\\\n",
    "        filter(Measurement.date <= \"2016-01-01\", Measurement.date >= \"2016-01-01\").\\\n",
    "        all()\n",
    "\n",
    "    \n",
    "    precipitation_list = [results]\n",
    "\n",
    "    return jsonify(precipitation_list)\n"
   ]
  },
  {
   "cell_type": "code",
   "execution_count": null,
   "metadata": {},
   "outputs": [],
   "source": [
    "#create query to find stations\n",
    "@app.route(\"/api/v1.0/stations\")\n",
    "def stations():\n",
    "    \"\"\"List of Stations\"\"\"\n",
    "    results = session.query(Station.name, Station.station, Station.elevation).all()\n",
    "\n",
    "    station_list = []\n",
    "    for result in results:\n",
    "        row = {}\n",
    "        row['name'] = result[0]\n",
    "        row['station'] = result[1]\n",
    "        row['elevation'] = result[2]\n",
    "        station_list.append(row)\n",
    "    return jsonify(station_list)"
   ]
  },
  {
   "cell_type": "code",
   "execution_count": null,
   "metadata": {
    "collapsed": true
   },
   "outputs": [],
   "source": [
    "#create query to find temperatures for last year\n",
    "@app.route(\"/api/v1.0/tobs\")\n",
    "def station_temps():\n",
    "    \"\"\"Temperatures by station for the last year.\"\"\"\n",
    "    results = session.query(Station.name, Measurement.date, Measurement.tobs).\\\n",
    "        filter(Measurement.date >= \"2016-01-01\", Measurement.date <= \"2017-01-01\").\\\n",
    "        all()\n",
    "\n",
    "    \n",
    "    tobs_list = []\n",
    "    for result in results:\n",
    "        row = {}\n",
    "        row[\"Date\"] = result[1]\n",
    "        row[\"Station\"] = result[0]\n",
    "        row[\"Temperature\"] = int(result[2])\n",
    "        tobs_list.append(row)\n",
    "\n",
    "    return jsonify(tobs_list)"
   ]
  },
  {
   "cell_type": "code",
   "execution_count": null,
   "metadata": {
    "collapsed": true
   },
   "outputs": [],
   "source": [
    "#create query to avg/max/min temps for a date\n",
    "@app.route('/api/v1.0/<date>/')\n",
    "def avg_date(date):\n",
    "    \"\"\"Average/Max/Min temperatures for a date \"\"\"\n",
    "    results = session.query(Measurement.date, func.avg(Measurement.tobs), func.max(Measurement.tobs), func.min(Measurement.tobs)).\\\n",
    "        filter(Measurement.date == date).all()\n",
    "\n",
    "    data_list = []\n",
    "    for result in results:\n",
    "        row = {}\n",
    "        row['Date'] = result[0]\n",
    "        row['Average Temperature'] = float(result[1])\n",
    "        row['Highest Temperature'] = float(result[2])\n",
    "        row['Lowest Temperature'] = float(result[3])\n",
    "        data_list.append(row)\n",
    "\n",
    "    return jsonify(data_list)"
   ]
  },
  {
   "cell_type": "code",
   "execution_count": null,
   "metadata": {
    "collapsed": true
   },
   "outputs": [],
   "source": [
    "@app.route('/api/v1.0/<start_date>/<end_date>/')\n",
    "def avg_period(start_date, end_date):\n",
    "    \"\"\"Average/Max/Min temperatures for a period \"\"\"\n",
    "    results = session.query(func.avg(Measurement.tobs), func.max(Measurement.tobs), func.min(Measurement.tobs)).\\\n",
    "        filter(Measurement.date >= start_date, Measurement.date <= end_date).all()\n",
    "\n",
    "    data_list = []\n",
    "    for result in results:\n",
    "        row = {}\n",
    "        row[\"Start Date\"] = start_date\n",
    "        row[\"End Date\"] = end_date\n",
    "        row[\"Average Temperature\"] = float(result[0])\n",
    "        row[\"Highest Temperature\"] = float(result[1])\n",
    "        row[\"Lowest Temperature\"] = float(result[2])\n",
    "        data_list.append(row)\n",
    "    return jsonify(data_list)"
   ]
  },
  {
   "cell_type": "code",
   "execution_count": null,
   "metadata": {},
   "outputs": [],
   "source": [
    "if __name__ == '__main__':\n",
    "    app.run()"
   ]
  },
  {
   "cell_type": "code",
   "execution_count": null,
   "metadata": {
    "collapsed": true
   },
   "outputs": [],
   "source": []
  }
 ],
 "metadata": {
  "kernelspec": {
   "display_name": "Python 3",
   "language": "python",
   "name": "python3"
  },
  "language_info": {
   "codemirror_mode": {
    "name": "ipython",
    "version": 3
   },
   "file_extension": ".py",
   "mimetype": "text/x-python",
   "name": "python",
   "nbconvert_exporter": "python",
   "pygments_lexer": "ipython3",
   "version": "3.6.2"
  }
 },
 "nbformat": 4,
 "nbformat_minor": 2
}
